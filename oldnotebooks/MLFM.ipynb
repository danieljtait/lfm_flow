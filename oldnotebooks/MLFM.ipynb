{
 "cells": [
  {
   "cell_type": "code",
   "execution_count": 2,
   "metadata": {},
   "outputs": [],
   "source": [
    "import tensorflow as tf\n",
    "import numpy as np"
   ]
  },
  {
   "cell_type": "code",
   "execution_count": 52,
   "metadata": {},
   "outputs": [],
   "source": [
    "def reset_session():\n",
    "    \"\"\"Creates a new global, interactive session in Graph-mode.\"\"\"\n",
    "    global sess\n",
    "    try:\n",
    "        tf.reset_default_graph()\n",
    "        sess.close()\n",
    "    except:\n",
    "        pass\n",
    "    sess = tf.InteractiveSession()\n",
    "\n",
    "reset_session()"
   ]
  },
  {
   "cell_type": "code",
   "execution_count": 53,
   "metadata": {},
   "outputs": [],
   "source": [
    "# dimensions \n",
    "R = 4\n",
    "D = 2\n",
    "K = 3\n",
    "N = 15\n",
    "N_repr = 1\n",
    "\n",
    "latent_forces = tf.get_variable('latent_forces', \n",
    "                                shape=(N, R), dtype=np.float64)\n",
    "basis_mats = tf.get_variable('basis_mats', \n",
    "                             shape=(D, K, K), dtype=np.float64)\n",
    "\n",
    "sens_coeffs = tf.get_variable('sens_coeffs', dtype=np.float64,\n",
    "                              shape=(R+1, D))"
   ]
  },
  {
   "cell_type": "code",
   "execution_count": 54,
   "metadata": {},
   "outputs": [
    {
     "name": "stdout",
     "output_type": "stream",
     "text": [
      "(1, 15, 3)\n"
     ]
    }
   ],
   "source": [
    "lf = tf.concat([tf.ones((N, 1), dtype=np.float64),\n",
    "                latent_forces],\n",
    "               axis=1)\n",
    "Ar = sens_coeffs[..., None, None] * basis_mats[None, ...]\n",
    "Ar = tf.reduce_sum(Ar, axis=-3)\n",
    "At = tf.reduce_sum(\n",
    "    lf[..., None, None] * Ar,\n",
    "    axis=-3)\n",
    "\n",
    "X = tf.get_variable('X', dtype=np.float64,\n",
    "                    shape=(N_repr, N, K))"
   ]
  },
  {
   "cell_type": "code",
   "execution_count": 50,
   "metadata": {},
   "outputs": [
    {
     "name": "stdout",
     "output_type": "stream",
     "text": [
      "(15, 3, 3)\n"
     ]
    }
   ],
   "source": [
    "sess.run(tf.global_variables_initializer())\n",
    "\n",
    "dict_feed = {latent_forces: np.random.randn(N, R)}\n",
    "\n",
    "lf = sess.run(lf, dict_feed)\n"
   ]
  },
  {
   "cell_type": "code",
   "execution_count": 59,
   "metadata": {},
   "outputs": [],
   "source": [
    "f = At[None, ...] * X[..., None, :]\n",
    "f = tf.reduce_sum(f, axis=-2)\n"
   ]
  },
  {
   "cell_type": "markdown",
   "metadata": {},
   "source": [
    "$$\n",
    "\\exp\\left\\{ \n",
    "-\\frac{1}{2}(f_k - m_k)^{\\top} S_{k}^{-1}(f_k-m_k) \n",
    "\\right\\}\n",
    "$$\n",
    "\n",
    "Then \n",
    "$$\n",
    "\\begin{align}\n",
    "[\\Lambda_{k, ode}]_{ij} = &u_{ki}u_{kj}^{\\top} S_{k}^{-1} \\\\\n",
    "&-\\delta_{ip} \\mathrm{diag}(u_{kp}) S_k^{-1} M_k \\\\\n",
    "&-\\delta_{jq} M_k^{\\top} S_k^{-1} \\mathrm{diag}(u_{kq})\n",
    "\\end{align}\n",
    "$$"
   ]
  },
  {
   "cell_type": "code",
   "execution_count": 68,
   "metadata": {},
   "outputs": [],
   "source": [
    "X11 = np.ones((5, 5))\n",
    "X12 = 2*np.ones((5, 5))\n",
    "X21 = 3*np.ones((5, 5))\n",
    "X22 = 4*np.ones((5, 5))\n",
    "X = np.row_stack([\n",
    "    np.column_stack([X11, X12]),\n",
    "    np.column_stack([X21, X22])\n",
    "])\n",
    "\n",
    "Y = X.reshape((5, 5, 2, 2))\n",
    "Z = X.reshape((2, 2, 5, 5))\n"
   ]
  },
  {
   "cell_type": "markdown",
   "metadata": {},
   "source": [
    "$$\n",
    "f_k - m_k = U_k x\n",
    "$$\n",
    "\n",
    "where $U_k \\in \\mathbb{R}^{N \\times NK}$ given by\n",
    "\n",
    "$$\n",
    "U_k = [\\mathrm{u}_{k1}, \\ldots, \\mathrm{u}_{kK} ]\n",
    "$$"
   ]
  },
  {
   "cell_type": "code",
   "execution_count": 75,
   "metadata": {},
   "outputs": [
    {
     "data": {
      "text/plain": [
       "array([[2., 3., 2., 3.],\n",
       "       [4., 5., 4., 5.],\n",
       "       [2., 3., 2., 3.],\n",
       "       [4., 5., 4., 5.]])"
      ]
     },
     "execution_count": 75,
     "metadata": {},
     "output_type": "execute_result"
    }
   ],
   "source": [
    "diag = tf.random_normal(shape=[2, 3, 4])\n",
    "operator = tf.linalg.LinearOperatorDiag(diag)\n",
    "\n",
    "uk = np.array([1., 1., 2., 2.])\n",
    "\n",
    "np.outer(uk, uk)\n",
    "\n",
    "np.kron(np.ones((2, 2)),\n",
    "        np.array([[2., 3.],\n",
    "                  [4., 5.]]))"
   ]
  },
  {
   "cell_type": "code",
   "execution_count": 81,
   "metadata": {},
   "outputs": [
    {
     "data": {
      "text/plain": [
       "array([[ 0.,  1.,  0.,  2.],\n",
       "       [ 2.,  3.,  4.,  6.],\n",
       "       [ 0.,  2.,  0.,  4.],\n",
       "       [ 4.,  6.,  8., 12.]])"
      ]
     },
     "execution_count": 81,
     "metadata": {},
     "output_type": "execute_result"
    }
   ],
   "source": [
    "arr = np.arange(4).reshape(2, 2)\n",
    "mat = np.row_stack([np.tile(arr, 2)]*2)\n",
    "\n",
    "mat = np.outer(uk, uk) * mat\n"
   ]
  },
  {
   "cell_type": "code",
   "execution_count": null,
   "metadata": {},
   "outputs": [],
   "source": []
  }
 ],
 "metadata": {
  "kernelspec": {
   "display_name": "Python 3",
   "language": "python",
   "name": "python3"
  },
  "language_info": {
   "codemirror_mode": {
    "name": "ipython",
    "version": 3
   },
   "file_extension": ".py",
   "mimetype": "text/x-python",
   "name": "python",
   "nbconvert_exporter": "python",
   "pygments_lexer": "ipython3",
   "version": "3.6.5"
  }
 },
 "nbformat": 4,
 "nbformat_minor": 2
}
