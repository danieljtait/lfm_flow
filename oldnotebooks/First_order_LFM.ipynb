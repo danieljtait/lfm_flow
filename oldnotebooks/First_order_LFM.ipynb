{
 "cells": [
  {
   "cell_type": "markdown",
   "metadata": {},
   "source": [
    "## First order latent force models\n",
    "\n",
    "$$\n",
    "    \\dot{x}_p(t) = -D_p x_p(t) + \\sum_{r=1}^R S_{pr} g_r(t), \\qquad p=1,\\ldots P.\n",
    "$$"
   ]
  },
  {
   "cell_type": "markdown",
   "metadata": {},
   "source": [
    "### Basic Imports"
   ]
  },
  {
   "cell_type": "code",
   "execution_count": 1,
   "metadata": {},
   "outputs": [],
   "source": [
    "%matplotlib inline\n",
    "\n",
    "import matplotlib\n",
    "import numpy as np\n",
    "import matplotlib.pyplot as plt\n",
    "from scipy.integrate import odeint\n",
    "\n",
    "np.random.seed(123)\n",
    "np.set_printoptions(precision=3, suppress=True)"
   ]
  },
  {
   "cell_type": "markdown",
   "metadata": {},
   "source": [
    "### Simulating from the model\n",
    "We are first going to define the model and simulate an observation from it by directly solving the model with a single driving force, $g(t) = \\cos (t)$."
   ]
  },
  {
   "cell_type": "code",
   "execution_count": 2,
   "metadata": {},
   "outputs": [
    {
     "data": {
      "image/png": "[encoded data removed]",
      "text/plain": [
       "<Figure size 432x288 with 1 Axes>"
      ]
     },
     "metadata": {
      "needs_background": "light"
     },
     "output_type": "display_data"
    }
   ],
   "source": [
    "S = np.array([[-0.5],\n",
    "                [.2]])\n",
    "\n",
    "D = np.array([.5, .3])\n",
    "\n",
    "g = lambda t: np.cos(t)\n",
    "\n",
    "# Dense set of time points to solve the model on\n",
    "ttd = np.linspace(0., 5., 100)\n",
    "\n",
    "# Time-Evolution equation\n",
    "def dXdt(X, t):\n",
    "    # equivalent to diag(-D).dot(X) + S.dot(g)\n",
    "    return -D * X + S.dot(g(t))[:, 0]\n",
    "\n",
    "# numerically solve the ODE\n",
    "sol = odeint(dXdt, [0., 0.], ttd)\n",
    "\n",
    "# subsample the time vector to create our training data\n",
    "N1 = 8  # no. of samples from x(t)\n",
    "N2 = 15   # no. of samples from y(t)\n",
    "\n",
    "xind = np.sort(\n",
    "    np.random.choice(ttd.size, size=N1, replace=False))\n",
    "\n",
    "# sample only from the 1st two thirds of y(t)\n",
    "yind = np.sort(\n",
    "    np.random.choice(ttd.size * 2 // 3, size=N2, replace=False))\n",
    "\n",
    "t1, X = ttd[xind], sol[xind, 0]\n",
    "t2, Y = ttd[yind], sol[yind, 1]\n",
    "\n",
    "fig, ax = plt.subplots()\n",
    "_ = ax.plot(ttd, sol, alpha=0.5)\n",
    "_ = ax.plot(t1, X, 'x')\n",
    "_ = ax.plot(t2, Y, 'x')"
   ]
  },
  {
   "cell_type": "code",
   "execution_count": 3,
   "metadata": {},
   "outputs": [
    {
     "name": "stdout",
     "output_type": "stream",
     "text": [
      "\n",
      "WARNING: The TensorFlow contrib module will not be included in TensorFlow 2.0.\n",
      "For more information, please see:\n",
      "  * https://github.com/tensorflow/community/blob/master/rfcs/20180907-contrib-sunset.md\n",
      "  * https://github.com/tensorflow/addons\n",
      "If you depend on functionality not listed there, please file an issue.\n",
      "\n",
      "WARNING:tensorflow:From /Users/danieltait/MyVenvs/lfm_flow/lib/python3.7/site-packages/tensorflow/python/framework/op_def_library.py:263: colocate_with (from tensorflow.python.framework.ops) is deprecated and will be removed in a future version.\n",
      "Instructions for updating:\n",
      "Colocations handled automatically by placer.\n"
     ]
    },
    {
     "ename": "TypeError",
     "evalue": "__init__() missing 1 required positional argument: 'index_points'",
     "output_type": "error",
     "traceback": [
      "\u001b[0;31m---------------------------------------------------------------------------\u001b[0m",
      "\u001b[0;31mTypeError\u001b[0m                                 Traceback (most recent call last)",
      "\u001b[0;32m<ipython-input-3-685eb99fdf06>\u001b[0m in \u001b[0;36m<module>\u001b[0;34m()\u001b[0m\n\u001b[1;32m     22\u001b[0m \u001b[0;34m\u001b[0m\u001b[0m\n\u001b[1;32m     23\u001b[0m \u001b[0mkern\u001b[0m \u001b[0;34m=\u001b[0m \u001b[0mLFM1_RBF\u001b[0m\u001b[0;34m(\u001b[0m\u001b[0mD0\u001b[0m\u001b[0;34m,\u001b[0m \u001b[0mS0\u001b[0m\u001b[0;34m,\u001b[0m \u001b[0mlf_length_scales\u001b[0m\u001b[0;34m)\u001b[0m\u001b[0;34m\u001b[0m\u001b[0;34m\u001b[0m\u001b[0m\n\u001b[0;32m---> 24\u001b[0;31m \u001b[0mlfm\u001b[0m \u001b[0;34m=\u001b[0m \u001b[0mLLFM\u001b[0m\u001b[0;34m(\u001b[0m\u001b[0mkern\u001b[0m\u001b[0;34m)\u001b[0m\u001b[0;34m\u001b[0m\u001b[0;34m\u001b[0m\u001b[0m\n\u001b[0m",
      "\u001b[0;31mTypeError\u001b[0m: __init__() missing 1 required positional argument: 'index_points'"
     ]
    }
   ],
   "source": [
    "from lfm_flow.kernels import LFM1_RBF\n",
    "from lfm_flow.latentforcemodels import LLFM\n",
    "import tensorflow as tf\n",
    "\n",
    "def reset_session():\n",
    "    \"\"\"Creates a new global, interactive session in Graph-mode.\"\"\"\n",
    "    global sess\n",
    "    try:\n",
    "        tf.reset_default_graph()\n",
    "        sess.close()\n",
    "    except:\n",
    "        pass\n",
    "    sess = tf.InteractiveSession()\n",
    "\n",
    "reset_session()\n",
    "\n",
    "lf_length_scales = np.array([1., ])\n",
    "\n",
    "# initial conditions for kernel -- cheat in this notebook\n",
    "S0 = S.copy()\n",
    "D0 = D.copy()\n",
    "\n",
    "kern = LFM1_RBF(D0, S0, lf_length_scales)\n",
    "lfm = LLFM(kern)"
   ]
  },
  {
   "cell_type": "markdown",
   "metadata": {},
   "source": [
    "### Data Input\n",
    "\n",
    "ToDo Further remarks about shaping of input data"
   ]
  },
  {
   "cell_type": "code",
   "execution_count": null,
   "metadata": {},
   "outputs": [],
   "source": [
    "# Temporary ugly adding of training data to lfm object\n",
    "\n",
    "# concatenate to single augmented time vector...\n",
    "tt_aug = np.concatenate([t1, t2])\n",
    "# ...and remember the shape of the original vectors\n",
    "tt_aug_shape = [t1.size, t2.size]\n",
    "\n",
    "lfm.t_input = tt_aug\n",
    "lfm.t_input_shape = tt_aug_shape\n",
    "\n",
    "# Store training data as shape (N_obs, N_replicates)\n",
    "lfm.Y = tf.constant(np.concatenate([X, Y]),\n",
    "                    dtype=np.float64)[:, None]"
   ]
  },
  {
   "cell_type": "markdown",
   "metadata": {},
   "source": [
    "### Specifying optimizer"
   ]
  },
  {
   "cell_type": "code",
   "execution_count": null,
   "metadata": {},
   "outputs": [],
   "source": [
    "# Build a tensorflow operator to return the log_likelihood\n",
    "log_likelihood = lfm._build_likelihood()\n",
    "\n",
    "# construct an optimiser\n",
    "optimizer = tf.train.AdamOptimizer(learning_rate=0.01)\n",
    "train_op = optimizer.minimize(-log_likelihood)\n",
    "\n",
    "# specify no. of iterations for model fitting...\n",
    "# ... and a container for the values\n",
    "num_iters = 500\n"
   ]
  },
  {
   "cell_type": "markdown",
   "metadata": {},
   "source": [
    "### Training\n",
    "\n",
    "ToDo Tidy way to reinitialize"
   ]
  },
  {
   "cell_type": "code",
   "execution_count": null,
   "metadata": {},
   "outputs": [],
   "source": [
    "sess.run(tf.global_variables_initializer())\n",
    "\n",
    "def train(num_iters):\n",
    "    lls_ = np.zeros(num_iters, np.float64)\n",
    "    for i in range(num_iters):\n",
    "        _, lls_[i] = sess.run([train_op, log_likelihood])\n",
    "    return lls_\n",
    "\n",
    "lls_ = train(500)\n",
    "fig, ax = plt.subplots()\n",
    "lines = ax.plot(lls_, 'C0-')"
   ]
  },
  {
   "cell_type": "code",
   "execution_count": null,
   "metadata": {},
   "outputs": [],
   "source": [
    "D, S, lf_length_scales = sess.run(\n",
    "    [lfm.kernel.D, lfm.kernel.S, lfm.kernel.lf_length_scales])\n",
    "\n",
    "print(D)\n",
    "print(S)\n",
    "print(lf_length_scales)"
   ]
  },
  {
   "cell_type": "code",
   "execution_count": null,
   "metadata": {},
   "outputs": [],
   "source": [
    "mf, covf = lfm.predict_lf(ttd, return_cov=True)\n",
    "mf, covf = sess.run([mf, covf])\n",
    "\n",
    "fig2, ax = plt.subplots()\n",
    "ax.plot(ttd, np.cos(ttd), 'k-.')\n",
    "\n",
    "stdf = np.diag(covf)\n",
    "stdf = np.sqrt(stdf)\n",
    "ax.plot(ttd, mf, 'C0-')\n",
    "ax.fill_between(ttd, mf[:, 0] + 2*stdf, mf[:, 0] - 2*stdf,\n",
    "                alpha=0.5, facecolor='C0')\n",
    "plt.show()\n"
   ]
  },
  {
   "cell_type": "code",
   "execution_count": null,
   "metadata": {},
   "outputs": [],
   "source": []
  }
 ],
 "metadata": {
  "kernelspec": {
   "display_name": "Python 3",
   "language": "python",
   "name": "python3"
  },
  "language_info": {
   "codemirror_mode": {
    "name": "ipython",
    "version": 3
   },
   "file_extension": ".py",
   "mimetype": "text/x-python",
   "name": "python",
   "nbconvert_exporter": "python",
   "pygments_lexer": "ipython3",
   "version": "3.7.2"
  }
 },
 "nbformat": 4,
 "nbformat_minor": 2
}
