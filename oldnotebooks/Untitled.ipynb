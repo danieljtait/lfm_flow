{
 "cells": [
  {
   "cell_type": "markdown",
   "metadata": {},
   "source": [
    "### Handling the Initial Value\n",
    "\n",
    "Fully specified the LFM takes the form of the initial value problem\n",
    "\n",
    "$$\n",
    "\\dot{x}_p = -D_p x(t) + \\sum_{r=1}^{P} g_r(t) + B_p, \\qquad x_p(0) = x_0,\n",
    "$$\n",
    "\n",
    "for $p=1,\\ldots, P$. Previously we have worked with the case where $B_p = 0$\n",
    "and the initial condition is known to be zero. To handle the more general setting\n",
    "we now consider\n",
    "\n",
    "$$\n",
    "x_{p0} \\sim \\mathcal{N}(0, \\sigma_{p0}^2 ), \\qquad p=1,\\ldots P.\n",
    "$$\n"
   ]
  },
  {
   "cell_type": "code",
   "execution_count": null,
   "metadata": {},
   "outputs": [],
   "source": []
  }
 ],
 "metadata": {
  "kernelspec": {
   "display_name": "Python 3",
   "language": "python",
   "name": "python3"
  },
  "language_info": {
   "codemirror_mode": {
    "name": "ipython",
    "version": 3
   },
   "file_extension": ".py",
   "mimetype": "text/x-python",
   "name": "python",
   "nbconvert_exporter": "python",
   "pygments_lexer": "ipython3",
   "version": "3.6.5"
  }
 },
 "nbformat": 4,
 "nbformat_minor": 2
}
