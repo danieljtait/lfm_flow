{
 "cells": [
  {
   "cell_type": "markdown",
   "metadata": {},
   "source": [
    "## First order latent force models\n",
    "\n",
    "$$\n",
    "    \\dot{x}_p(t) = -D_p x_p(t) + \\sum_{r=1}^R S_{pr} g_r(t), \\qquad p=1,\\ldots P.\n",
    "$$"
   ]
  },
  {
   "cell_type": "markdown",
   "metadata": {},
   "source": [
    "### Basic Imports"
   ]
  },
  {
   "cell_type": "code",
   "execution_count": null,
   "metadata": {},
   "outputs": [],
   "source": [
    "%matplotlib inline\n",
    "\n",
    "import matplotlib\n",
    "import numpy as np\n",
    "import matplotlib.pyplot as plt\n",
    "from scipy.integrate import odeint\n",
    "\n",
    "np.random.seed(123)\n",
    "np.set_printoptions(precision=3, suppress=True)"
   ]
  },
  {
   "cell_type": "markdown",
   "metadata": {},
   "source": [
    "### Simulating from the model\n",
    "We are first going to define the model and simulate an observation from it by directly solving the model with a single driving force, $g(t) = \\cos (t)$."
   ]
  },
  {
   "cell_type": "code",
   "execution_count": null,
   "metadata": {},
   "outputs": [],
   "source": [
    "S = np.array([[-0.5],\n",
    "                [.2]])\n",
    "\n",
    "D = np.array([.5, .3])\n",
    "\n",
    "g = lambda t: np.cos(t)\n",
    "\n",
    "# Dense set of time points to solve the model on\n",
    "ttd = np.linspace(0., 5., 100)\n",
    "\n",
    "# Time-Evolution equation\n",
    "def dXdt(X, t):\n",
    "    # equivalent to diag(-D).dot(X) + S.dot(g)\n",
    "    return -D * X + S.dot(g(t))[:, 0]\n",
    "\n",
    "# numerically solve the ODE\n",
    "sol = odeint(dXdt, [0., 0.], ttd)\n",
    "\n",
    "# subsample the time vector to create our training data\n",
    "N1 = 5  # no. of samples from x(t)\n",
    "N2 = 8   # no. of samples from y(t)\n",
    "\n",
    "xind = np.sort(\n",
    "    np.random.choice(ttd.size, size=N1, replace=False))\n",
    "yind = np.sort(\n",
    "    np.random.choice(ttd.size * 2 // 3, size=N2, replace=False))\n",
    "\n",
    "t1, X = ttd[xind], sol[xind, 0]\n",
    "t2, Y = ttd[yind], sol[yind, 1]\n",
    "\n",
    "fig, ax = plt.subplots()\n",
    "_ = ax.plot(ttd, sol, alpha=0.5)\n",
    "_ = ax.plot(t1, X, 'x')\n",
    "_ = ax.plot(t2, Y, 'x')"
   ]
  },
  {
   "cell_type": "code",
   "execution_count": null,
   "metadata": {},
   "outputs": [],
   "source": [
    "from lfm_flow.kernels import LFM1_RBF\n",
    "from lfm_flow.latentforcemodels import LLFM\n",
    "import tensorflow as tf\n",
    "\n",
    "def reset_session():\n",
    "    \"\"\"Creates a new global, interactive session in Graph-mode.\"\"\"\n",
    "    global sess\n",
    "    try:\n",
    "        tf.reset_default_graph()\n",
    "        sess.close()\n",
    "    except:\n",
    "        pass\n",
    "    sess = tf.InteractiveSession()\n",
    "\n",
    "reset_session()\n",
    "\n",
    "lf_length_scales = np.array([1., ])\n",
    "\n",
    "kern = LFM1_RBF(D, S, lf_length_scales)\n",
    "lfm = LLFM(kern)"
   ]
  },
  {
   "cell_type": "code",
   "execution_count": null,
   "metadata": {},
   "outputs": [],
   "source": [
    "# Temporary are ugly adding of training data to lfm object\n",
    "\n",
    "# concatenate to single augmented time vector...\n",
    "tt_aug = np.concatenate([t1, t2])\n",
    "# ...and remember the shape of the original vectors\n",
    "tt_aug_shape = [t1.size, t2.size]\n",
    "\n",
    "lfm.t_input = tt_aug\n",
    "lfm.t_input_shape = tt_aug_shape\n",
    "\n",
    "# Store training data as shape (N_obs, N_replicates)\n",
    "lfm.Y = tf.constant(np.concatenate([X, Y]),\n",
    "                    dtype=np.float64)[:, None]"
   ]
  },
  {
   "cell_type": "code",
   "execution_count": null,
   "metadata": {},
   "outputs": [],
   "source": [
    "# Build a tensorflow operator to return the log_likelihood\n",
    "log_likelihood = lfm._build_likelihood()\n",
    "\n",
    "# construct an optimiser\n",
    "optimizer = tf.train.AdamOptimizer(learning_rate=0.01)\n",
    "train_op = optimizer.minimize(-log_likelihood)\n",
    "\n",
    "# specify no. of iterations for model fitting...\n",
    "# ... and a container for the values\n",
    "num_iters = 500\n",
    "lls_ = np.zeros(num_iters, np.float64)"
   ]
  },
  {
   "cell_type": "code",
   "execution_count": null,
   "metadata": {},
   "outputs": [],
   "source": [
    "sess.run(tf.global_variables_initializer())\n",
    "\n",
    "for i in range(num_iters):\n",
    "    _, lls_[i] = sess.run([train_op, log_likelihood])\n",
    "    \n",
    "fig, ax = plt.subplots()\n",
    "lines = ax.plot(lls_, 'C0-')"
   ]
  }
 ],
 "metadata": {
  "kernelspec": {
   "display_name": "Python 3",
   "language": "python",
   "name": "python3"
  },
  "language_info": {
   "codemirror_mode": {
    "name": "ipython",
    "version": 3
   },
   "file_extension": ".py",
   "mimetype": "text/x-python",
   "name": "python",
   "nbconvert_exporter": "python",
   "pygments_lexer": "ipython3",
   "version": "3.6.5"
  }
 },
 "nbformat": 4,
 "nbformat_minor": 2
}
