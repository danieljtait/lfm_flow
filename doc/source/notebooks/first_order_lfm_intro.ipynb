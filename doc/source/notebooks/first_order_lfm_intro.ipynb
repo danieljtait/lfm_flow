{
 "cells": [
  {
   "cell_type": "markdown",
   "metadata": {},
   "source": [
    "# First Order LFM\n",
    "\n",
    "In this note we describe some of the basic functionality of the latent force model, LFM. In this note we will treat the parameters as being known and fixed, and instead discuss the joint distributional properties of the trajectories and latent forces. \n",
    "\n",
    "The process of model fitting and learning of the structural parameters will be described in a seperate notebook. Before starting we make the following imports."
   ]
  },
  {
   "cell_type": "code",
   "execution_count": 1,
   "metadata": {},
   "outputs": [
    {
     "name": "stdout",
     "output_type": "stream",
     "text": [
      "\nWARNING: The TensorFlow contrib module will not be included in TensorFlow 2.0.\nFor more information, please see:\n  * https://github.com/tensorflow/community/blob/master/rfcs/20180907-contrib-sunset.md\n  * https://github.com/tensorflow/addons\nIf you depend on functionality not listed there, please file an issue.\n\n"
     ]
    }
   ],
   "source": [
    "%matplotlib inline\n",
    "#matplotlib.rcParams['figure.dpi']= 150\n",
    "\n",
    "import matplotlib\n",
    "import numpy as np\n",
    "import matplotlib.pyplot as plt\n",
    "from scipy.integrate import odeint\n",
    "\n",
    "import tensorflow as tf\n",
    "from lfm_flow.kernels import LFM1_RBF\n",
    "from lfm_flow.latentforcemodels import LLFM\n",
    "\n",
    "np.random.seed(123)\n",
    "np.set_printoptions(precision=3, suppress=True)"
   ]
  },
  {
   "cell_type": "markdown",
   "metadata": {},
   "source": [
    "## Introduction\n",
    "\n",
    "The first order LFM describes the time-evolution of a system of trajectories $x_p(t)$ for $p=1,\\ldots, K$, by a system of inhomogenous first order linear ODEs\n",
    "\n",
    "$$\n",
    "\\dot{x}(t) - D_p x(t) = f_p(t), \\qquad p=1,\\ldots, K,\n",
    "$$\n",
    "\n",
    "where the forcing function $f_p(t)$ is itself given by a linear combination of a set of independent Gaussian process\n",
    "\n",
    "$$\n",
    "f_p(t) = \\sum_{r=1}^R S_{pr} g_r(t), \\qquad g_r(t) \\sim \\mathcal{GP}(0, k_r(\\cdot, \\cdot)).\n",
    "$$\n",
    "\n",
    "This system has a solution\n",
    "\n",
    "$$\n",
    "x_p(t) = e^{D_p t}x_p(0) + \\int_0^{t} e^{D_p(t-\\tau)} f_p(\\tau)d\\tau,\n",
    "$$\n",
    "\n",
    "this pathwise solution represents the trajectories as a linear transformation of the underlying Gaussian latent forces, and it is this fact that makes the LFM a tractable model for inference.\n",
    "\n",
    "In this block below we demonstrate how to simulate from a model of this type using a numerical ODE routine with known forces\n",
    "\n",
    "An important feature of the GP models is there ability to collect data from multioutputs at irregularly space time points, and to make inferences when we only observe some of the trajectories. Then when we come to make our training data we shall\n",
    "\n",
    "* collect `N1 = 20` observations from $x_1(t)$\n",
    "* collect `N2 = 0` observations from $x_2(t)$\n",
    "* collect `N3 = 14` observations from $x_3(t)$\n",
    "\n",
    "with this specification the entire sample path of $x_2(t)$ is unobserved."
   ]
  },
  {
   "cell_type": "code",
   "execution_count": 2,
   "metadata": {},
   "outputs": [
    {
     "data": {
      "image/png": "[encoded data removed]",
      "text/plain": [
       "<Figure size 432x288 with 1 Axes>"
      ]
     },
     "metadata": {},
     "output_type": "display_data"
    }
   ],
   "source": [
    "S = np.array([[0., 2.],\n",
    "              [-0.3, 0.2],\n",
    "              [-0.5,-1.0]])\n",
    "D = np.array([.3, 0.5, 0.3])\n",
    "\n",
    "# \"True\" latent forces\n",
    "g1 = lambda t: np.cos(t)\n",
    "g2 = lambda t: np.exp(-(t-5.)**2)*np.sin(np.pi*t)\n",
    "\n",
    "# Dense set of time points to solve the model on\n",
    "ttd = np.linspace(0., 10., 1000)\n",
    "\n",
    "# Time-Evolution equation\n",
    "def dXdt(X, t):\n",
    "    # equivalent to diag(-D).dot(X) + S.dot(g)\n",
    "    g = np.array([g1(t), g2(t)])\n",
    "    return -D * X + S.dot(g)\n",
    "\n",
    "# numerically solve the ODE\n",
    "sol = odeint(dXdt, [0., 0., 0.], ttd)\n",
    "\n",
    "# make our training data\n",
    "N1, N2, N3 = [20, 0, 14]\n",
    "inds = [np.random.choice(ttd.size-1,\n",
    "                         replace=False,\n",
    "                         size=N)\n",
    "        for N in [N1, N2, N3]]\n",
    "\n",
    "t1, t2, t3 = [ttd[ind] for ind in inds]\n",
    "X1, X2, X3 = [sol[ind, i] for i, ind in enumerate(inds)]\n",
    "\n",
    "fig, ax = plt.subplots()\n",
    "ax.plot(ttd, sol, alpha=0.8)\n",
    "for t, x in zip([t1, t2, t3], [X1, X2, X3]):\n",
    "    ax.plot(t, x, 'x')\n",
    "plt.show()"
   ]
  },
  {
   "cell_type": "markdown",
   "metadata": {},
   "source": [
    "Note that since \n",
    "\n",
    "$$\n",
    "S_{1,:} = \\begin{bmatrix} 0. & 2. \\end{bmatrix}\n",
    "$$\n",
    "\n",
    "the dynamics of $x_{1}(t)$ are driven entirely by the first latent force, $g_1(t)$. Since this force is quiesencent for the first part of the interval this trajectory remains constant at its steady state initial condition until the force grows sufficient to cause motion in $x_1(t)$, after which it begins to return towards its resting value.\n",
    "\n",
    "### Tensor flow session\n",
    "\n",
    "To take advantage of the automatic differentiation, and to better slot the LFM into more complex models we have built on top of the `TensorFlow` package. In the next code block we use the function in `googlecolab` to close any existing TensorFlow sessions and start a new one"
   ]
  },
  {
   "cell_type": "code",
   "execution_count": 3,
   "metadata": {},
   "outputs": [],
   "source": [
    "import warnings\n",
    "\n",
    "def reset_session():\n",
    "    \"\"\"Creates a new global, interactive session in Graph-mode.\"\"\"\n",
    "    global sess\n",
    "    try:\n",
    "        tf.reset_default_graph()\n",
    "        sess.close()\n",
    "    except:\n",
    "        pass\n",
    "    sess = tf.InteractiveSession()\n",
    "reset_session()"
   ]
  },
  {
   "cell_type": "markdown",
   "metadata": {},
   "source": [
    "## Multioutputs Kernel\n",
    "\n",
    "With the basic imports taken care of we now taken the opportunity to discuss the structure of the kernel in more detail. \n",
    "\n",
    "At any given time point the MLFM model takes the form of a $K$-dimensional Gaussian random variable, and so is a particular instance of the more general multioutput regression model. In this case the feature space is given by\n",
    "\n",
    "$$\n",
    "\\underbrace{\\mathbb{R}^{1} \\times \\cdots \\times \\mathbb{R}^{1}}_{K \\mbox{ times}}\n",
    "$$\n",
    "\n",
    "The typical observations of a given trajectory, $x_k(t)$, will have shape `[b1,...,bB, Nk, 1]` with `N_k = 0` if we have no observations from this output. \n",
    "\n",
    "The `MultioutputKernel` object itself will return a (batch) of covariance matrices of shape `[b1,...,bB, sum(N1 + ... + Nk), 1]`. To ensure that the `MultioutputKernel` behaves like a regular kernel we only ever pass a flattened version of the input\n",
    "\n",
    "(*note* this requires that all the input points have the same batched shape)"
   ]
  },
  {
   "cell_type": "code",
   "execution_count": 4,
   "metadata": {},
   "outputs": [
    {
     "name": "stdout",
     "output_type": "stream",
     "text": [
      "WARNING:tensorflow:From /Users/danieltait/MyVenvs/lfm_flow/lib/python3.7/site-packages/tensorflow/python/framework/op_def_library.py:263: colocate_with (from tensorflow.python.framework.ops) is deprecated and will be removed in a future version.\nInstructions for updating:\nColocations handled automatically by placer.\n"
     ]
    }
   ],
   "source": [
    "reset_session()\n",
    "lf_length_scales = [.15, .15]\n",
    "kern = LFM1_RBF(D, S, lf_length_scales)\n",
    "\n",
    "# placeholders tensors for observed time-points\n",
    "t1_t = tf.placeholder(np.float64, shape=(N1, 1))\n",
    "t2_t = tf.placeholder(np.float64, shape=(N2, 1))\n",
    "t3_t = tf.placeholder(np.float64, shape=(N3, 1))\n",
    "\n",
    "tt = tf.concat([t1_t, t2_t, t3_t], axis=-2)\n",
    "\n",
    "Kyy = kern._apply(tt, x1_shape=[N1, N2, N3])\n",
    "\n",
    "sess.run(tf.global_variables_initializer())\n",
    "\n",
    "eigvals = tf.linalg.eigvalsh(Kyy)\n",
    "Kyy = sess.run(eigvals, \n",
    "               feed_dict={t1_t: t1[:, None], \n",
    "                          t2_t: t2[:, None],\n",
    "                          t3_t: t3[:, None]})"
   ]
  },
  {
   "cell_type": "markdown",
   "metadata": {},
   "source": [
    "### The `LFM` Class\n",
    "\n",
    "Having described the kernel of the LFM we now want to incorporate in a more general class which behaves like the `GaussianProcess` class in TensorFlowProbability, but also takes care of handing the input points."
   ]
  },
  {
   "cell_type": "code",
   "execution_count": 6,
   "metadata": {},
   "outputs": [],
   "source": [
    "#\n",
    "index_points = [t1_t, t2_t, t3_t]\n",
    "\n",
    "# \n",
    "index_nshape = [N1, N2, N3] \n",
    "\n",
    "#val = [item.shape for item in index_points]\n",
    "#Kyy = kern._apply(tt, x1_shape=val)\n",
    "#print(val)\n",
    "#lfm = LLFM(kern, [t1_t, t2_t, t3_t])\n",
    "#print(lfm._orig_index_points)"
   ]
  },
  {
   "cell_type": "markdown",
   "metadata": {},
   "source": [
    "The result is an $N \\times N$ array where the total size is given by `N = N1 + N2 + N3`. The upper $N_1 \\times N_1$ sublock gives the covariance matrix of $x_1(t)$ at `t1`. Similarly the lower $N_3 \\times N_3$ submatrix gives the covariance of $x_3(t)$ evaluated on the vector `t3`. \n",
    "\n",
    "Because we input an empty array we have no observations from $x_2$, and it doesn't appear in the evaluated kernel matrix.\n",
    "\n",
    "### Analytic test\n",
    "\n",
    "We have\n",
    "\n",
    "$$\n",
    "\\mathrm{cov}\\{y_p(t), y_q(t') \\} = \n",
    "\\sum_{r=1}^R\n",
    "S_{pr}S_{qr}\\int_0^t \\int_0^{t'}\n",
    "e^{-D_p(t-\\tau)}e^{-D_q(t'-\\tau')}\n",
    "k_{r}(\\tau - \\tau') d\\tau d\\tau',\n",
    "$$\n",
    "\n",
    "an inefficient implementation of this is given below"
   ]
  },
  {
   "cell_type": "code",
   "execution_count": null,
   "metadata": {},
   "outputs": [],
   "source": [
    "from scipy.integrate import dblquad\n",
    "\n",
    "lf_length_scales = sess.run(kern.lf_length_scales)\n",
    "def numint_quad(t, t2, p, q):\n",
    "    \"\"\"\n",
    "    Returns the covariance of y_p(t) and yq(t2)\n",
    "    \"\"\"\n",
    "    def integrand(y, x, r):\n",
    "        ep = np.exp(-D[p]*(t-x))\n",
    "        eq = np.exp(-D[q]*(t2-y))\n",
    "        return ep*eq*np.exp(-(x-y)**2/lf_length_scales[r]**2)\n",
    "    k = 0.\n",
    "    for r in range(2):\n",
    "        I, err = dblquad(integrand, \n",
    "                         0., t,\n",
    "                         lambda x: 0., lambda x: t2, \n",
    "                         args=(r, ))\n",
    "        k += I * S[p, r] * S[q, r]\n",
    "    return k\n",
    "\n",
    "t1 = np.array([0.3, 1.5, 2.5])\n",
    "i = 0\n",
    "j = 1\n",
    "k = numint_quad(t1[i], t1[j], 0, 0)    \n",
    "\n",
    "_K11 = np.zeros((3, 3))\n",
    "for i, t1_i in enumerate(t1):\n",
    "    for j, t1_j in enumerate(t1):\n",
    "        _K11[i, j] = numint_quad(t1_i, t1_j, 0, 0)\n",
    "\n",
    "_K13 = np.zeros((3, 2))\n",
    "for i, t_i in enumerate(t1):\n",
    "    for j, t_j in enumerate(t3):\n",
    "        _K13[i, j] = numint_quad(t_i, t_j, 0, 2)\n",
    "        \n",
    "print(_K11)\n",
    "print(Kyy[:3, :3])\n",
    "\n",
    "print(_K13)\n",
    "print(Kyy[:3, 3:])"
   ]
  },
  {
   "cell_type": "code",
   "execution_count": null,
   "metadata": {},
   "outputs": [],
   "source": [
    "\n",
    "tt = [t1, t2, t3]\n",
    "\n",
    "ttpred = [np.array([]),\n",
    "          np.linspace(0., 3., 7),\n",
    "          np.array([])]\n",
    "\n",
    "Kyypred = kern(tt, ttpred)\n",
    "Kyypred = sess.run(Kyypred)\n",
    "Lyy = tf.linalg.cholesky(Kyy)\n",
    "K21 = tf.transpose(Kyypred, (1, 0))\n",
    "\n",
    "Y = tf.placeholder(name='Y', shape=(5, 1), dtype=np.float64)\n",
    "\n",
    "mf = tf.matmul(K21, \n",
    "                tf.linalg.cholesky_solve(Lyy, Y))"
   ]
  },
  {
   "cell_type": "markdown",
   "metadata": {},
   "source": [
    "### Prediction\n",
    "\n",
    "Having discussed the structure of the multiouput kernel underlying the MLFM, and checked the implementation using numerical quadrature, we now consider how to predict the trajectories on the basis of observations."
   ]
  },
  {
   "cell_type": "code",
   "execution_count": null,
   "metadata": {},
   "outputs": [],
   "source": [
    "# make our training data\n",
    "N1, N2, N3 = [20, 0, 14]\n",
    "inds = [np.random.choice(ttd.size-1,\n",
    "                         replace=False,\n",
    "                         size=N)\n",
    "        for N in [N1, N2, N3]]\n",
    "\n",
    "t1, t2, t3 = [ttd[ind] for ind in inds]\n",
    "X1, X2, X3 = [sol[ind, i] for i, ind in enumerate(inds)]\n",
    "\n",
    "Y = tf.placeholder(name='Y', \n",
    "                   shape=(N1 + N2 + N3, 1), \n",
    "                   dtype=np.float64)\n",
    "\n",
    "lfm = LLFM(kern)\n",
    "lfm.t_input = [t1, t2, t3]\n",
    "lfm.Y = Y\n",
    "\n",
    "# points to predict at \n",
    "ttnew = np.linspace(ttd[0], ttd[-1], 1000)\n",
    "\n",
    "my = lfm.predict([ttnew]*3)\n",
    "\n",
    "val = np.hstack([X1, X2, X3])\n",
    "val = val[:, None]\n",
    "\n",
    "my, Cy = sess.run(my, feed_dict={Y: val})\n",
    "my = my.reshape(3, 1000)\n",
    "\n",
    "marg_var = np.diag(Cy)\n",
    "marg_std = np.sqrt(marg_var)\n",
    "marg_std = marg_std.reshape(3, ttnew.size)"
   ]
  },
  {
   "cell_type": "code",
   "execution_count": null,
   "metadata": {},
   "outputs": [],
   "source": [
    "# plots!\n",
    "fig, (ax1, ax2, ax3) = plt.subplots(1, 3, sharey=True)\n",
    "fig.set_size_inches(12, 5)\n",
    "\n",
    "for k, (x, ax) in enumerate(zip(sol.T, (ax1, ax2, ax3))):\n",
    "    ax.plot(ttd, x, 'k-', alpha=0.8,\n",
    "            label=r'$y_{}(t)$'.format(k))\n",
    "    ax.set_xlabel('time')\n",
    "    \n",
    "for k, (xp, ax) in enumerate(zip(my, (ax1, ax2, ax3))):\n",
    "    #ax.plot(ttnew, xp, '-.')\n",
    "    ax.fill_between(ttnew, \n",
    "                    xp - 2*marg_std[k, :],\n",
    "                    xp + 2*marg_std[k, :], alpha=0.3)\n",
    "    ax.plot(ttnew, xp, '-.', \n",
    "            label=r'$E_{}[y_{}(t) | y]$'.format(k,k))\n",
    "    \n",
    "\n",
    "ax1.plot(t1, X1, 'x')\n",
    "ax2.plot(t2, X2, 'x')\n",
    "ax3.plot(t3, X3, 'x')\n",
    "\n",
    "ax1.legend(loc=3)\n",
    "ax2.legend(loc=3)\n",
    "ax3.legend(loc=3)\n",
    "\n",
    "plt.show()"
   ]
  },
  {
   "cell_type": "code",
   "execution_count": null,
   "metadata": {},
   "outputs": [],
   "source": []
  }
 ],
 "metadata": {
  "kernelspec": {
   "display_name": "Python 3",
   "language": "python",
   "name": "python3"
  },
  "language_info": {
   "codemirror_mode": {
    "name": "ipython",
    "version": 3
   },
   "file_extension": ".py",
   "mimetype": "text/x-python",
   "name": "python",
   "nbconvert_exporter": "python",
   "pygments_lexer": "ipython3",
   "version": "3.6.5"
  }
 },
 "nbformat": 4,
 "nbformat_minor": 2
}
