{
 "cells": [
  {
   "cell_type": "markdown",
   "metadata": {},
   "source": [
    "# Latent Force Models\n",
    "\n",
    "In this note we present the latent force model first in its mathematical form as a state space model, before discussing how [1] embedded some mathematical structure into these models creating an appealing class of hybrid models for dynamical systems. \n",
    "\n",
    "Along the way we will begin to introduce the basic classes. For a guide to simulating from this model and fitting observations see the notebook `ref`.\n",
    " \n",
    " A latent force model describes the evolution of a $K$ dimensional state vector taking values in $\\mathbb{R}^{K}$. The LFM is described by the system of ordinary differential equations (ODE)\n",
    " \n",
    " $$\n",
    " \\dot{x}_k(t) + D_k x(t) = \\sum_{r=1}^{R} f_r(t) + B_k, \\qquad k=1,\\ldots, K.\n",
    " $$\n",
    " \n",
    " Such a system is easily solved, with the formal solution given by\n",
    " \n",
    " $$\n",
    " x_k(t) = e^{-D_k(t-t_0)}x_k(t_0) + \\int_{t_0}^t e^{-D_k(t-\\tau)}\\left(\\sum_{r=1}^R f_r(\\tau) + B_k \\right) d\\tau.\n",
    " $$\n",
    " \n",
    " Such systems occur frequently in mathematics, and indeed as a mathematical object the LFM will be well familiar to engineers and those with knowledge of control theory where this system is an example of a *linear time invariant* system."
   ]
  },
  {
   "cell_type": "markdown",
   "metadata": {},
   "source": [
    "One feature that is apparent from the system of ODEs above is that the state variables interact with one another only through the shared set of latent forces."
   ]
  },
  {
   "cell_type": "markdown",
   "metadata": {},
   "source": [
    "### Necessary Imports\n",
    "\n",
    "Apart from the LFM package itself we will use\n",
    "\n",
    "1. `numpy` --- because where would we be without it?\n",
    "2. `matplotlib` --- for visualisation\n",
    "3. `scipy.integrate.odeint` --- solve the ODE numerically\n",
    "4. `tensorflow` --- learning to love it\n"
   ]
  },
  {
   "cell_type": "code",
   "execution_count": 1,
   "metadata": {},
   "outputs": [
    {
     "name": "stdout",
     "output_type": "stream",
     "text": [
      "\n",
      "WARNING: The TensorFlow contrib module will not be included in TensorFlow 2.0.\n",
      "For more information, please see:\n",
      "  * https://github.com/tensorflow/community/blob/master/rfcs/20180907-contrib-sunset.md\n",
      "  * https://github.com/tensorflow/addons\n",
      "If you depend on functionality not listed there, please file an issue.\n",
      "\n"
     ]
    }
   ],
   "source": [
    "import numpy as np\n",
    "import matplotlib.pyplot as plt\n",
    "from scipy.integrate import odeint\n",
    "import tensorflow as tf\n",
    "\n",
    "from lfm_flow.mogaussianprocesses import MultioutputGaussianProcess\n",
    "from lfm_flow.mogaussianprocesses import MultioutputGaussianProcessRegressionModel\n",
    "from lfm_flow.kernels import LFM1_RBF\n",
    "\n",
    "np.random.seed(321)  # reproducability!"
   ]
  },
  {
   "cell_type": "markdown",
   "metadata": {},
   "source": [
    "## Example using ODE int\n",
    "\n",
    "This will also allow us to demonstrate the batching of the LFM models. A batch from a TensorFlow Probability distribution represents a collection of independent, non-identically, distributed random variables. We demonstrate this below using the sensitivity matrix, any particular instance of the LFM requires a single $K \\times R$ matrix to parameterise it. To create a batched version of the LFM we ensure the parameters have shape `[b1,...,bB, K, R]` -- in the simple example below we have `D.shape = [2, K]` so that the batch shape will have shape `(2, )`."
   ]
  },
  {
   "cell_type": "code",
   "execution_count": 2,
   "metadata": {},
   "outputs": [
    {
     "data": {
      "image/png": "[encoded data removed]",
      "text/plain": [
       "<Figure size 576x360 with 2 Axes>"
      ]
     },
     "metadata": {
      "needs_background": "light"
     },
     "output_type": "display_data"
    }
   ],
   "source": [
    "K = 2 # Dimension of the state variable\n",
    "R = 1 # No. of latent forces\n",
    "\n",
    "d1 = np.linspace(-0.4, 5., 5)\n",
    "d1 = np.array([d1[3]])\n",
    "D = np.column_stack((d1, 0.3*np.ones(d1.size)))\n",
    "\n",
    "S = np.array([[ 1.],\n",
    "              [ 1.]])\n",
    "\n",
    "# true latent force, an RBF weighted sinusoidal force\n",
    "g = lambda t: np.exp(-.5*(t-1.)**2) * np.cos(2*t)\n",
    "\n",
    "# initial conditions are 0\n",
    "x0 = [0., 0.]\n",
    "\n",
    "def dXdt(X, t, D, Sensmat):\n",
    "    return -np.diag(D).dot(X) + (Sensmat * g(t)).ravel()\n",
    "\n",
    "# dense set of time points for simulation\n",
    "ttd = np.linspace(0., 5., 100)\n",
    "sols = [odeint(dXdt, x0, ttd, args=(_d, S))\n",
    "        for _d in D]\n",
    "\n",
    "N1 = 5 # no. of obs from x1(t)\n",
    "N2 = 3 # no. of obs from x2(t)\n",
    "\n",
    "ind1 = np.sort(np.random.choice(ttd.size-1, replace=False, size=N1))\n",
    "#ind1 = np.linspace(0, ttd.size-1, N1, dtype=np.intp)\n",
    "ind2 = np.sort(np.random.choice(ttd.size-1, replace=False, size=N2))\n",
    "#ind2 = np.linspace(0, ttd.size-1, N2, dtype=np.intp)\n",
    "Ydat = np.concatenate([sols[0][ind1, 0],\n",
    "                       sols[0][ind2, 1]])\n",
    "#Ydat = np.concatenate([sol0[ind1, 0], sol0[ind2, 1]])\n",
    "index_points = [ttd[ind1][:, None], \n",
    "                ttd[ind2][:, None]]\n",
    "\n",
    "fig, (ax1, ax2) = plt.subplots(nrows=1, ncols=2)\n",
    "fig.set_size_inches((8, 5))\n",
    "ax1.plot(ttd, g(ttd), 'C0-')\n",
    "ax1.set_title(r'$g_1(t)$')\n",
    "\n",
    "for d, sol in zip(d1, sols):\n",
    "    ax2.plot(ttd, sol[:, 0], '-', alpha=0.5,\n",
    "             label=r'$D_1 = {:04.2f}$'.format(d))\n",
    "ax2.legend(loc='upper right')\n",
    "ax2.set_title(r'$\\dot{x}_1 + D_1 x(t) = g_1(t)$')\n",
    "plt.show()"
   ]
  },
  {
   "cell_type": "markdown",
   "metadata": {},
   "source": [
    "## Probabilistic Model\n",
    "\n",
    "In the control theory setting once often starts with certain desirable properties of the states of this system, and then attempts to introduce a control that achieves this goal. Alvarez et. al invert this process by asking given a particular history of states, what configuration of controls could have achieved such a system. By allowing the controls to have a Gaussian process distribution one realises a very flexible model exhibiting interesting dynamical systems properties.\n",
    "\n",
    "We assume that each of the latent forces is given an indepenent Gaussian process prior\n",
    "\n",
    "$$\n",
    "f_r(t) \\sim \\mathcal{GP}(0, k_r(t, t')), \\qquad r = 1,\\ldots, R.\n",
    "$$"
   ]
  },
  {
   "cell_type": "code",
   "execution_count": 3,
   "metadata": {},
   "outputs": [],
   "source": [
    "\n",
    "def reset_session():\n",
    "  \"\"\"Creates a new global, interactive session in Graph-mode.\"\"\"\n",
    "  global sess\n",
    "  try:\n",
    "    tf.reset_default_graph()\n",
    "    sess.close()\n",
    "  except:\n",
    "    pass\n",
    "  sess = tf.InteractiveSession()\n",
    "\n"
   ]
  },
  {
   "cell_type": "code",
   "execution_count": 4,
   "metadata": {},
   "outputs": [
    {
     "name": "stdout",
     "output_type": "stream",
     "text": [
      "WARNING:tensorflow:From /Users/danieltait/MyVenvs/lfm_flow/lib/python3.7/site-packages/tensorflow/python/framework/op_def_library.py:263: colocate_with (from tensorflow.python.framework.ops) is deprecated and will be removed in a future version.\n",
      "Instructions for updating:\n",
      "Colocations handled automatically by placer.\n",
      "(1,)\n"
     ]
    }
   ],
   "source": [
    "from lfm_flow.mogaussianprocesses import MultioutputGaussianProcess\n",
    "from lfm_flow.kernels import LFM1_RBF\n",
    "\n",
    "reset_session()\n",
    "\n",
    "lf_length_scale = (np.finfo(np.float64).tiny +\n",
    "                   tf.nn.softplus(tf.Variable(initial_value=(.5, ),\n",
    "                                              name='lf_length_scale',\n",
    "\n",
    "                                              dtype=np.float64)))\n",
    "\n",
    "D_tensor = tf.get_variable(name='D', dtype=np.float64,\n",
    "                           initializer=D)\n",
    "\n",
    "kern = LFM1_RBF(D_tensor, S, lf_length_scale)\n",
    "\n",
    "lfm = MultioutputGaussianProcess(kern, index_points, jitter=1e-6)\n",
    "\n",
    "# Check our batch shape is behaving as expected\n",
    "print(kern._batch_shape())\n"
   ]
  },
  {
   "cell_type": "markdown",
   "metadata": {},
   "source": [
    "To sample some realisations from this random variable we now simply call the `sample` method. This will return a tensor of size \n",
    "```\n",
    ">>> rv = lfm.sample(nsample) \n",
    ">>> rv.shape \n",
    ">>> # outputs [nsample, b1,...,bB, N1 + ... + NK]\n",
    "```"
   ]
  },
  {
   "cell_type": "code",
   "execution_count": 5,
   "metadata": {},
   "outputs": [],
   "source": [
    "Y = tf.placeholder(name='Y', dtype=np.float64, shape=(N1+N2, ))\n",
    "log_likelihood = lfm.log_prob(Y)\n"
   ]
  },
  {
   "cell_type": "code",
   "execution_count": 6,
   "metadata": {},
   "outputs": [
    {
     "name": "stdout",
     "output_type": "stream",
     "text": [
      "WARNING:tensorflow:From /Users/danieltait/MyVenvs/lfm_flow/lib/python3.7/site-packages/tensorflow/python/ops/math_ops.py:3066: to_int32 (from tensorflow.python.ops.math_ops) is deprecated and will be removed in a future version.\n",
      "Instructions for updating:\n",
      "Use tf.cast instead.\n"
     ]
    }
   ],
   "source": [
    "# Define the optimization ops for maximizing likelihood (minimizing neg\n",
    "# log-likelihood!)\n",
    "optimizer = tf.train.AdamOptimizer(learning_rate=.01)\n",
    "train_op = optimizer.minimize(-log_likelihood)"
   ]
  },
  {
   "cell_type": "code",
   "execution_count": 7,
   "metadata": {},
   "outputs": [],
   "source": [
    "feed_dict = {Y: Ydat}\n",
    "\n",
    "# Now we optimize the model parameters.\n",
    "num_iters = 1000\n",
    "# Store the likelihood values during training, so we can plot the progress\n",
    "lls_ = np.zeros(num_iters, np.float64)\n",
    "sess.run(tf.global_variables_initializer())\n",
    "for i in range(num_iters):\n",
    "  _, lls_[i] = sess.run([train_op, log_likelihood], feed_dict=feed_dict)"
   ]
  },
  {
   "cell_type": "code",
   "execution_count": 8,
   "metadata": {},
   "outputs": [
    {
     "name": "stdout",
     "output_type": "stream",
     "text": [
      "Values of D from max. likelihood\n",
      "[[4.79497807 0.79748565]]\n",
      "True values of D\n",
      "[[3.65 0.3 ]]\n"
     ]
    },
    {
     "data": {
      "image/png": "[encoded data removed]",
      "text/plain": [
       "<Figure size 432x288 with 1 Axes>"
      ]
     },
     "metadata": {
      "needs_background": "light"
     },
     "output_type": "display_data"
    }
   ],
   "source": [
    "fig, ax = plt.subplots()\n",
    "ax.plot(lls_)\n",
    "Dval, Sval, lscales_val = sess.run(kern.variables)\n",
    "print(\"Values of D from max. likelihood\")\n",
    "print(Dval)\n",
    "print(\"True values of D\")\n",
    "print(D)\n",
    "plt.show()"
   ]
  },
  {
   "cell_type": "code",
   "execution_count": 9,
   "metadata": {},
   "outputs": [],
   "source": [
    "rv = lfm.sample(10)\n",
    "\n",
    "rv = tf.split(rv, [N1, N2], axis=-1)\n",
    "sess.run(tf.global_variables_initializer())\n",
    "rv = sess.run(rv)"
   ]
  },
  {
   "cell_type": "markdown",
   "metadata": {},
   "source": [
    "So we have no successfully sample some trajectories from our LFM, these are all ready to use once we have initialised the tensorflow graphs and variables."
   ]
  },
  {
   "cell_type": "code",
   "execution_count": 10,
   "metadata": {},
   "outputs": [
    {
     "name": "stdout",
     "output_type": "stream",
     "text": [
      "(10, 1, 5)\n"
     ]
    }
   ],
   "source": [
    "\n",
    "t1, t2 = index_points\n",
    "X1, X2 = rv\n",
    "print(X1.shape)\n",
    "#fig, ax = plt.subplots()\n",
    "#ax.plot(t1, X1[3, 0, :].T, '+-')\n",
    "#plt.show()"
   ]
  },
  {
   "cell_type": "code",
   "execution_count": 11,
   "metadata": {},
   "outputs": [],
   "source": [
    "Y = tf.placeholder(name='Y', dtype=np.float64, shape=(N1+N2, ))\n",
    "predict_index_points = [ttd[:, None], ttd[:, None]]\n",
    "\n",
    "gprm = MultioutputGaussianProcessRegressionModel(\n",
    "    kern,\n",
    "    index_points=predict_index_points,\n",
    "    observation_noise_variance=0.0,\n",
    "    observation_index_points=index_points,\n",
    "    observations=Y,\n",
    "    jitter=1e-6)\n",
    "\n",
    "samples = gprm.sample(10, seed=135)\n",
    "samples = tf.split(samples, gprm.index_points_shape, axis=-1)"
   ]
  },
  {
   "cell_type": "code",
   "execution_count": null,
   "metadata": {},
   "outputs": [],
   "source": []
  },
  {
   "cell_type": "code",
   "execution_count": 12,
   "metadata": {},
   "outputs": [],
   "source": [
    "\n",
    "#_y += np.random.normal(size=_y.size, scale=0.0)\n",
    "samples = sess.run(samples, feed_dict={Y: Ydat})"
   ]
  },
  {
   "cell_type": "code",
   "execution_count": 13,
   "metadata": {},
   "outputs": [
    {
     "data": {
      "image/png": "[encoded data removed]",
      "text/plain": [
       "<Figure size 576x360 with 1 Axes>"
      ]
     },
     "metadata": {
      "needs_background": "light"
     },
     "output_type": "display_data"
    }
   ],
   "source": [
    "mean = tf.split(gprm.loc, gprm.index_points_shape, axis=-1)\n",
    "mean = sess.run(mean, feed_dict={Y: Ydat})\n",
    "covar = sess.run(gprm._covariance_matrix)\n",
    "var = np.diag(covar[0, ...])\n",
    "sd = np.sqrt(var)[:ttd.size]\n",
    "\n",
    "fig, ax = plt.subplots()\n",
    "ax.plot(ttd, sols[0][:, 0], 'k-')\n",
    "ax.plot(ttd[ind1], Ydat[:N1], 'C1s')\n",
    "\n",
    "fig.set_size_inches((8, 5))\n",
    "ax.plot(ttd, samples[0][:, 0, :].T, 'C0-', alpha=0.8)\n",
    "ax.plot(ttd, mean[0][0, :])\n",
    "ax.fill_between(ttd, \n",
    "                mean[0][0, :] + 2*sd,\n",
    "                mean[0][0, :] - 2*sd, alpha=0.2)\n",
    "#ax.plot(ttd, sol0[:, 0], 'k-')\n",
    "ax.plot(ttd[ind1], Ydat[:N1], 'C1s', markersize=9)\n",
    "#ax.plot(ttd[ind1], sol0[ind1, 0], 'C3o')\n",
    "\n",
    "\n",
    "plt.show()"
   ]
  },
  {
   "cell_type": "code",
   "execution_count": 14,
   "metadata": {},
   "outputs": [
    {
     "name": "stdout",
     "output_type": "stream",
     "text": [
      "(1, 200, 200)\n"
     ]
    },
    {
     "data": {
      "image/png": "[encoded data removed]",
      "text/plain": [
       "<Figure size 432x288 with 1 Axes>"
      ]
     },
     "metadata": {
      "needs_background": "light"
     },
     "output_type": "display_data"
    }
   ],
   "source": [
    "cov = sess.run(gprm._covariance_matrix)\n",
    "print(cov.shape)\n",
    "#print(np.linalg.eig(cov)[0])\n",
    "C = cov[0, ...]\n",
    "L = np.linalg.cholesky(C)\n",
    "\n",
    "z = np.random.normal(size=200)\n",
    "z = L.dot(z)\n",
    "\n",
    "z1, z2 = z[:ttd.size], z[ttd.size:]\n",
    "\n",
    "fig, ax = plt.subplots()\n",
    "ax.plot(ttd, z1)\n",
    "plt.show()"
   ]
  },
  {
   "cell_type": "code",
   "execution_count": 15,
   "metadata": {},
   "outputs": [
    {
     "name": "stdout",
     "output_type": "stream",
     "text": [
      "0.0\n"
     ]
    }
   ],
   "source": [
    "print(sess.run(gprm.predictive_noise_variance))"
   ]
  },
  {
   "cell_type": "code",
   "execution_count": 16,
   "metadata": {},
   "outputs": [
    {
     "data": {
      "text/plain": [
       "array([3.65, 0.3 ])"
      ]
     },
     "execution_count": 16,
     "metadata": {},
     "output_type": "execute_result"
    }
   ],
   "source": [
    "D[0, :]"
   ]
  },
  {
   "cell_type": "code",
   "execution_count": null,
   "metadata": {},
   "outputs": [],
   "source": []
  }
 ],
 "metadata": {
  "kernelspec": {
   "display_name": "Python 3",
   "language": "python",
   "name": "python3"
  },
  "language_info": {
   "codemirror_mode": {
    "name": "ipython",
    "version": 3
   },
   "file_extension": ".py",
   "mimetype": "text/x-python",
   "name": "python",
   "nbconvert_exporter": "python",
   "pygments_lexer": "ipython3",
   "version": "3.7.2"
  }
 },
 "nbformat": 4,
 "nbformat_minor": 2
}
