{
 "cells": [
  {
   "cell_type": "code",
   "execution_count": 1,
   "metadata": {},
   "outputs": [
    {
     "name": "stdout",
     "output_type": "stream",
     "text": [
      "\n",
      "WARNING: The TensorFlow contrib module will not be included in TensorFlow 2.0.\n",
      "For more information, please see:\n",
      "  * https://github.com/tensorflow/community/blob/master/rfcs/20180907-contrib-sunset.md\n",
      "  * https://github.com/tensorflow/addons\n",
      "If you depend on functionality not listed there, please file an issue.\n",
      "\n"
     ]
    }
   ],
   "source": [
    "import numpy as np\n",
    "import matplotlib.pyplot as plt\n",
    "from scipy.integrate import odeint\n",
    "import tensorflow as tf\n",
    "\n",
    "from lfm_flow.mogaussianprocesses import MultioutputGaussianProcess\n",
    "from lfm_flow.mogaussianprocesses import MultioutputGaussianProcessRegressionModel\n",
    "from lfm_flow.kernels import LFM1_RBF\n",
    "from lfm_flow.latentforcemodels import LatentForceModel\n",
    "\n",
    "np.random.seed(123)  # reproducability!"
   ]
  },
  {
   "cell_type": "code",
   "execution_count": 2,
   "metadata": {},
   "outputs": [],
   "source": [
    "def reset_session():\n",
    "  \"\"\"Creates a new global, interactive session in Graph-mode.\"\"\"\n",
    "  global sess\n",
    "  try:\n",
    "    tf.reset_default_graph()\n",
    "    sess.close()\n",
    "  except:\n",
    "    pass\n",
    "  sess = tf.InteractiveSession()\n",
    "\n",
    "reset_session()"
   ]
  },
  {
   "cell_type": "code",
   "execution_count": 15,
   "metadata": {},
   "outputs": [],
   "source": [
    "D = np.array([1., 0.3, -0.2])\n",
    "S = np.array([[.33],\n",
    "              [-0.4]])\n",
    "length_scales = np.array([1., 0.95])\n",
    "\n",
    "kern = LFM1_RBF(D, S, length_scales)\n"
   ]
  },
  {
   "cell_type": "code",
   "execution_count": 16,
   "metadata": {},
   "outputs": [
    {
     "name": "stdout",
     "output_type": "stream",
     "text": [
      "[5, None]\n"
     ]
    }
   ],
   "source": [
    "t1 = np.linspace(0., 3., 5)[:, None]\n",
    "\n",
    "index_points = (t1, )\n",
    "lf_index_points = (t1, None)\n",
    "\n",
    "lfm = LatentForceModel(kern, index_points, \n",
    "                       lf_index_points=lf_index_points)\n",
    "print(lfm.lf_index_points_shape)"
   ]
  },
  {
   "cell_type": "code",
   "execution_count": 17,
   "metadata": {},
   "outputs": [],
   "source": [
    "from tensorflow_probability import distributions as tfd\n",
    "from tensorflow_probability import positive_semidefinite_kernels as tfk"
   ]
  },
  {
   "cell_type": "code",
   "execution_count": 39,
   "metadata": {},
   "outputs": [
    {
     "name": "stdout",
     "output_type": "stream",
     "text": [
      "(6, 1)\n"
     ]
    }
   ],
   "source": [
    "\n",
    "class FlattenedLFMKernel(tfk.PositiveSemidefiniteKernel):\n",
    "    def __init__(self, \n",
    "                 lfm_kernel, \n",
    "                 index_points_shape,\n",
    "                 lf_index_points_shape=(0, )):\n",
    "        \"\"\"\n",
    "        Allows for reshaping of the \n",
    "        \"\"\"\n",
    "        self._lfm_kernel = lfm_kernel\n",
    "        self._index_points_shape = index_points_shape\n",
    "        self._lf_index_points_shape = lf_index_points_shape\n",
    "        \n",
    "    @property\n",
    "    def output_kernel(self):\n",
    "        return self._lfm_kernel\n",
    "        \n",
    "    @property\n",
    "    def index_points_shape(self):\n",
    "        return self._index_points_shape\n",
    "    \n",
    "    @property\n",
    "    def lf_index_points_shape(self):\n",
    "        return self._lf_index_points_shape\n",
    "    \n",
    "    def _apply(self, x1, x2, param_expansion_ndims=0):\n",
    "        \n",
    "        # x1 will be shape [b1,...,bB, e1, 1]\n",
    "        # x2 will be shape [b1,...,bB, e2, 1]\n",
    "        \n",
    "        n_output = sum(self.index_points_shape)\n",
    "        n_lfs = sum(self.lf_index_points_shape)\n",
    "        \n",
    "        x1_outputs, x1_lfs = tf.split(x1, (n_output, n_lfs), axis=-2,)\n",
    "       \n",
    "\n",
    "x1_index_points = np.linspace(0., 3., 5)[:, None]\n",
    "x2_index_points = None\n",
    "x3_index_points = np.linspace(0., 2., 3)[:, None]\n",
    "\n",
    "lf1_index_points = np.linspace(0., 3.5, 6)[:, None]\n",
    "\n",
    "\n",
    "foo = FlattenedLFMKernel(kern, [5, 0, 3], [6, ])\n",
    "\n",
    "\n",
    "\n",
    "flat_x1 = tf.concat([x1_index_points,\n",
    "                     x3_index_points,\n",
    "                     lf1_index_points],\n",
    "                    axis=-2)\n",
    "\n",
    "with tf.Session() as sess:\n",
    "    sess.run(tf.global_variables_initializer())\n",
    "    \n",
    "    foo._apply(flat_x1, None)\n",
    "\n",
    "        "
   ]
  },
  {
   "cell_type": "markdown",
   "metadata": {},
   "source": [
    "### GradientGaussianProcess\n",
    "\n",
    "```MultioutputGaussianProcess```, the number of outputs is determined by the dimension of the feature space\n",
    "\n",
    "$$\n",
    "u_{p}(t) := \\frac{\\partial}{\\partial x_p} y(\\mathbf{x})\n",
    "$$\n",
    "\n",
    "We also take $u_{0}(t)$ to be the original function, so that\n",
    "```\n",
    ">>> length_scale = np.array([1.])\n",
    ">>> kern = ExponentiatedQuadraticGradient(length_scale)\n",
    ">>> kern.output_ndim = 2\n",
    "```\n",
    "\n",
    "So that\n",
    "\n",
    "```\n",
    "index_points = ...\n",
    "gradient_index_points = ...\n",
    "\n",
    "K = kern.matrix((index_points, gradient_index_points), \n",
    "                (index_points, gradient_index_points))\n",
    "     _           _\n",
    "    |             |\n",
    "    | Kff   Kff'  |\n",
    "K = |             |\n",
    "    | Kf'f  Kf'f' |\n",
    "    |_           _|\n",
    "```\n"
   ]
  },
  {
   "cell_type": "code",
   "execution_count": null,
   "metadata": {},
   "outputs": [],
   "source": [
    "class GradientKernel:\n",
    "    \"\"\"\n",
    "    \n",
    "    \"\"\"\n",
    "    pass\n",
    "\n",
    "class GradientGaussianProcess:\n",
    "    def __init__(self,\n",
    "                 kernel,\n",
    "                 gradient_kernel,\n",
    "                 index_points,\n",
    "                 gradient_index_points):\n",
    "        pass\n",
    "    \n",
    "class GradientGaussianProcessRegressionModel:\n",
    "    def __init__(self, \n",
    "                 kernel, \n",
    "                 gradient_kernel,\n",
    "                 index_points,\n",
    "                 gradient_index_points,\n",
    "                 observation_index_points=None,\n",
    "                 observations=None,\n",
    "                 gradient_observation_index_points=None,\n",
    "                 gradient_observations=None\n",
    "                 )\n",
    "        pass\n",
    "    "
   ]
  }
 ],
 "metadata": {
  "kernelspec": {
   "display_name": "Python 3",
   "language": "python",
   "name": "python3"
  },
  "language_info": {
   "codemirror_mode": {
    "name": "ipython",
    "version": 3
   },
   "file_extension": ".py",
   "mimetype": "text/x-python",
   "name": "python",
   "nbconvert_exporter": "python",
   "pygments_lexer": "ipython3",
   "version": "3.7.2"
  }
 },
 "nbformat": 4,
 "nbformat_minor": 2
}
